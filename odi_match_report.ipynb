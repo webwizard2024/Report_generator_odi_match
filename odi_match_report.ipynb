{
 "cells": [
  {
   "cell_type": "code",
   "execution_count": 6,
   "id": "a5ba119c",
   "metadata": {},
   "outputs": [
    {
     "name": "stdout",
     "output_type": "stream",
     "text": [
      "        id   season        city        date        team1       team2  \\\n",
      "0  1389389  2023/24      Indore  2023/09/24        India   Australia   \n",
      "1  1336129     2023  Nottingham  2023/09/23      England     Ireland   \n",
      "2  1395701     2023       Dhaka  2023/09/23  New Zealand  Bangladesh   \n",
      "3  1389388  2023/24  Chandigarh  2023/09/22    Australia       India   \n",
      "4  1395700     2023       Dhaka  2023/09/21  New Zealand  Bangladesh   \n",
      "\n",
      "   toss_winner toss_decision  result  dl_applied       winner  win_by_runs  \\\n",
      "0    Australia         field     D/L           1        India           99   \n",
      "1      Ireland         field  normal           0      England           48   \n",
      "2  New Zealand           bat  normal           0  New Zealand           86   \n",
      "3        India         field  normal           0        India            0   \n",
      "4   Bangladesh         field  normal           0          NaN            0   \n",
      "\n",
      "   win_by_wickets player_of_match  \\\n",
      "0               0         SS Iyer   \n",
      "1               0        WG Jacks   \n",
      "2               0        IS Sodhi   \n",
      "3               5  Mohammed Shami   \n",
      "4               0             NaN   \n",
      "\n",
      "                                               venue                umpire1  \\\n",
      "0                     Holkar Cricket Stadium, Indore          J Madanagopal   \n",
      "1                           Trent Bridge, Nottingham              DJ Millns   \n",
      "2              Shere Bangla National Stadium, Mirpur              M Erasmus   \n",
      "3  Punjab Cricket Association IS Bindra Stadium, ...  KN Ananthapadmanabhan   \n",
      "4              Shere Bangla National Stadium, Mirpur            Nitin Menon   \n",
      "\n",
      "           umpire2                umpire3  \n",
      "0  HDPK Dharmasena  KN Ananthapadmanabhan  \n",
      "1        RJ Tucker             PR Reiffel  \n",
      "2     Sharfuddoula            Nitin Menon  \n",
      "3  HDPK Dharmasena          J Madanagopal  \n",
      "4     Sharfuddoula              M Erasmus  \n"
     ]
    }
   ],
   "source": [
    "import pandas as pd  \n",
    "\n",
    "# Load your ODI dataset\n",
    "df = pd.read_csv(\"ODI_Match_info.csv\")\n",
    "\n",
    "# Show first few rows\n",
    "print(df.head())\n",
    "\n",
    "\n"
   ]
  },
  {
   "cell_type": "code",
   "execution_count": 16,
   "id": "3802dfcc",
   "metadata": {},
   "outputs": [],
   "source": [
    "import getpass\n",
    "import os\n",
    "\n",
    "if not os.environ.get(\"GROQ_API_KEY\"):\n",
    "  os.environ[\"GROQ_API_KEY\"] = getpass.getpass(\"Enter API key for Groq: \")\n",
    "\n",
    "from langchain.chat_models import init_chat_model\n",
    "\n",
    "model = init_chat_model(\"llama-3.1-8b-instant\", model_provider=\"groq\")"
   ]
  },
  {
   "cell_type": "code",
   "execution_count": 17,
   "id": "ae4757b9",
   "metadata": {},
   "outputs": [
    {
     "data": {
      "text/plain": [
       "AIMessage(content='To answer this query, we need to identify the following:\\n\\n1. Column(s) needed: `toss_winner` is the column we need to count the wins by team.\\n2. Chart type: `pie` chart is suitable for showing the total wins by team.\\n\\nHere\\'s the JSON output:\\n\\n```json\\n{\\n  \"x\": \"toss_winner\",\\n  \"y\": \"count\",\\n  \"chart_type\": \"pie\"\\n}\\n```\\n\\nHowever, since we need to count the wins by team, we also need to group by `toss_winner` and count the occurrences. This can be achieved using a simple SQL query or a data manipulation step.\\n\\nHere\\'s the updated JSON request:\\n\\n```json\\n{\\n  \"query\": {\\n    \"aggregations\": {\\n      \"wins_by_team\": {\\n        \"terms\": {\\n          \"field\": \"toss_winner\"\\n        }\\n      }\\n    },\\n    \"chart_type\": \"pie\",\\n    \"x\": \"wins_by_team.key\",\\n    \"y\": \"wins_by_team.doc_count\"\\n  }\\n}\\n```\\n\\nBut since we are a data visualization assistant, we can directly return the JSON with the required columns and chart type.\\n\\n```json\\n{\\n  \"x\": \"toss_winner\",\\n  \"y\": \"count\",\\n  \"chart_type\": \"pie\"\\n}\\n```', additional_kwargs={}, response_metadata={'token_usage': {'completion_tokens': 273, 'prompt_tokens': 733, 'total_tokens': 1006, 'completion_time': 0.447203129, 'prompt_time': 0.040560036, 'queue_time': 0.049176234, 'total_time': 0.487763165}, 'model_name': 'llama-3.1-8b-instant', 'system_fingerprint': 'fp_ab04adca7d', 'service_tier': 'on_demand', 'finish_reason': 'stop', 'logprobs': None}, id='run--188a75dd-e192-44b1-8204-60ce72d1a395-0', usage_metadata={'input_tokens': 733, 'output_tokens': 273, 'total_tokens': 1006})"
      ]
     },
     "execution_count": 17,
     "metadata": {},
     "output_type": "execute_result"
    }
   ],
   "source": [
    "model.invoke(input = \"\"\"\n",
    "You are a data visualization assistant.\n",
    "You are given an ODI cricket dataset.\n",
    "\n",
    "Columns:\n",
    "['id', 'season', 'city', 'date', 'team1', 'team2', 'toss_winner', 'toss_decision',\n",
    " 'result', 'dl_applied', 'winner', 'win_by_runs', 'win_by_wickets',\n",
    " 'player_of_match', 'venue', 'umpire1', 'umpire2']\n",
    "\n",
    "Here are some sample rows:\n",
    "[\n",
    " { \"id\": 1389389, \"season\": \"2023/24\", \"city\": \"Indore\", \"date\": \"2023/09/24\",\n",
    "   \"team1\": \"India\", \"team2\": \"Australia\", \"toss_winner\": \"Australia\", \"toss_decision\": \"field\",\n",
    "   \"result\": \"D/L\", \"dl_applied\": 1, \"winner\": \"India\", \"win_by_runs\": 99, \"win_by_wickets\": 0,\n",
    "   \"player_of_match\": \"SS Iyer\", \"venue\": \"Holkar Cricket Stadium, Indore\", \"umpire1\": \"J Madanagopal\"\n",
    " },\n",
    " { \"id\": 1336129, \"season\": \"2023\", \"city\": \"Nottingham\", \"date\": \"2023/09/23\",\n",
    "   \"team1\": \"England\", \"team2\": \"Ireland\", \"toss_winner\": \"Ireland\", \"toss_decision\": \"field\",\n",
    "   \"result\": \"normal\", \"dl_applied\": 0, \"winner\": \"England\", \"win_by_runs\": 48, \"win_by_wickets\": 0,\n",
    "   \"player_of_match\": \"WG Jacks\", \"venue\": \"Trent Bridge, Nottingham\", \"umpire1\": \"DJ Millns\"\n",
    " },\n",
    " { \"id\": 1395701, \"season\": \"2023\", \"city\": \"Dhaka\", \"date\": \"2023/09/23\",\n",
    "   \"team1\": \"New Zealand\", \"team2\": \"Bangladesh\", \"toss_winner\": \"New Zealand\", \"toss_decision\": \"bat\",\n",
    "   \"result\": \"normal\", \"dl_applied\": 0, \"winner\": \"New Zealand\", \"win_by_runs\": 86, \"win_by_wickets\": 0,\n",
    "   \"player_of_match\": \"IS Sodhi\", \"venue\": \"Shere Bangla National Stadium, Mirpur\", \"umpire1\": \"M Erasmus\"\n",
    " }\n",
    "]\n",
    "\n",
    "The user will ask queries like:\n",
    "- \"Show total toss wins by team in a pie chart\"\n",
    "- \"Show top winning teams in a bar chart\"\n",
    "- \"Show top 10 winning teams in a bar chart\"\n",
    "- \"Show top 10 players with most Player of the Match awards in a bar chart\"\n",
    "\n",
    "Your task:\n",
    "1. Identify which dataset column(s) are needed.\n",
    "2. Choose chart type (pie, bar, heatmap, line, etc.).\n",
    "3. If the user asks \"top N\", include \"limit\": N in JSON.\n",
    "4. Always return only valid JSON with keys: x, y, chart_type, and (optional) limit.\n",
    "\n",
    "Example:\n",
    "{\"x\": \"toss_winner\", \"y\": \"count\", \"chart_type\": \"pie\"}\n",
    "\n",
    "Now answer for this user query:\n",
    "\"Show total toss wins by team in a pie chart\"\n",
    "\"\"\"\n",
    ")"
   ]
  }
 ],
 "metadata": {
  "kernelspec": {
   "display_name": "Python 3",
   "language": "python",
   "name": "python3"
  },
  "language_info": {
   "codemirror_mode": {
    "name": "ipython",
    "version": 3
   },
   "file_extension": ".py",
   "mimetype": "text/x-python",
   "name": "python",
   "nbconvert_exporter": "python",
   "pygments_lexer": "ipython3",
   "version": "3.13.7"
  }
 },
 "nbformat": 4,
 "nbformat_minor": 5
}
